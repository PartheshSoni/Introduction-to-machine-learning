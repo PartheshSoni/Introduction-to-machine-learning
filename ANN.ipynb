{
  "nbformat": 4,
  "nbformat_minor": 0,
  "metadata": {
    "colab": {
      "name": "ANN.ipynb",
      "version": "0.3.2",
      "provenance": [],
      "collapsed_sections": []
    },
    "kernelspec": {
      "name": "python3",
      "display_name": "Python 3"
    }
  },
  "cells": [
    {
      "cell_type": "code",
      "metadata": {
        "id": "iLv1KGmhREjU",
        "colab_type": "code",
        "colab": {}
      },
      "source": [
        "import pandas as pd\n",
        "from sklearn.neural_network import MLPClassifier\n",
        "from sklearn.metrics import confusion_matrix,classification_report,accuracy_score\n",
        "import numpy as np\n"
      ],
      "execution_count": 0,
      "outputs": []
    },
    {
      "cell_type": "code",
      "metadata": {
        "id": "WkA_eLaARGq2",
        "colab_type": "code",
        "outputId": "8f1b6a6b-f56d-4b52-ad0f-2fce90c6ebe3",
        "colab": {
          "base_uri": "https://localhost:8080/",
          "height": 86
        }
      },
      "source": [
        "X_train=[[0,0,0],[0,1,0],[1,0,0],[1,1,0],[0,0,1],[0,1,1],[1,0,1],[1,1,1]]\n",
        "Y2_train=[0,1,1,0,1,0,0,1]\n",
        "Y1_train=[0,0,0,0,0,0,0,1]\n",
        "\n",
        "\n",
        "X_test=X_train\n",
        "model1 = MLPClassifier(activation='relu', max_iter=100000, hidden_layer_sizes=(6,4))\n",
        "model1.fit(X_train,Y1_train)\n",
        "pred=model1.predict(X_test)\n",
        "print(\"And Gate:\", pred) \n",
        "error=np.sum(np.absolute(pred-Y1_train))/8\n",
        "print(\"Error of AND gate: \", error)\n",
        "\n",
        "model = MLPClassifier(activation='relu', max_iter=100000, hidden_layer_sizes=(6,4))\n",
        "model.fit(X_train,Y2_train)\n",
        "pred=model.predict(X_test)\n",
        "print(\"XOR Gate:\", pred) \n",
        "error=np.sum(np.absolute(pred-Y2_train))/8\n",
        "print(\"Error of XOR gate: \", error)\n",
        "\n"
      ],
      "execution_count": 2,
      "outputs": [
        {
          "output_type": "stream",
          "text": [
            "And Gate: [0 0 0 0 0 0 0 0]\n",
            "Error of AND gate:  0.125\n",
            "XOR Gate: [1 1 1 0 1 1 1 1]\n",
            "Error of XOR gate:  0.375\n"
          ],
          "name": "stdout"
        }
      ]
    },
    {
      "cell_type": "code",
      "metadata": {
        "id": "BNX0ip0AVR2a",
        "colab_type": "code",
        "colab": {}
      },
      "source": [
        "X_train=[[0,0],[0,1],[1,0],[1,1]]\n",
        "Y2_train=[0,1,1,0]\n",
        "Y1_train=[0,0,0,1]\n",
        "\n",
        "X_test=X_train\n",
        "from sklearn.preprocessing import StandardScaler\n",
        "scaler = StandardScaler()\n",
        "# Fit only to the training data\n",
        "scaler.fit(X_train)\n",
        "StandardScaler(copy=True, with_mean=True, with_std=True)\n",
        "# Now apply the transformations to the data:\n",
        "X_train = scaler.transform(X_train)\n",
        "X_test = scaler.transform(X_test)\n"
      ],
      "execution_count": 0,
      "outputs": []
    },
    {
      "cell_type": "code",
      "metadata": {
        "id": "1OrgaDoPWjrn",
        "colab_type": "code",
        "outputId": "4a82d672-762d-45c4-c32c-cb5896c65ea8",
        "colab": {
          "base_uri": "https://localhost:8080/",
          "height": 208
        }
      },
      "source": [
        "model.fit(X_train,Y1_train)\n",
        "y_test=Y1_train\n",
        "predictions = model.predict(X_test)\n",
        "from sklearn.metrics import classification_report,confusion_matrix\n",
        "print(confusion_matrix(y_test,predictions))\n",
        "print(classification_report(y_test,predictions))\n"
      ],
      "execution_count": 4,
      "outputs": [
        {
          "output_type": "stream",
          "text": [
            "[[3 0]\n",
            " [0 1]]\n",
            "              precision    recall  f1-score   support\n",
            "\n",
            "           0       1.00      1.00      1.00         3\n",
            "           1       1.00      1.00      1.00         1\n",
            "\n",
            "    accuracy                           1.00         4\n",
            "   macro avg       1.00      1.00      1.00         4\n",
            "weighted avg       1.00      1.00      1.00         4\n",
            "\n"
          ],
          "name": "stdout"
        }
      ]
    }
  ]
}