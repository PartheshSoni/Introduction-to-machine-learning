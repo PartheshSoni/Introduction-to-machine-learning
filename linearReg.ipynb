{
 "cells": [
  {
   "cell_type": "code",
   "execution_count": null,
   "metadata": {},
   "outputs": [],
   "source": [
    "import numpy as np\n",
    "import pandas as pd\n",
    "from sklearn import datasets\n",
    "boston=datasets.load_boston()"
   ]
  },
  {
   "cell_type": "code",
   "execution_count": null,
   "metadata": {},
   "outputs": [],
   "source": [
    "print(boston.data.shape)\n",
    "xtrain=boston.data[0:400,: ]\n",
    "xtrain=np.insert(xtrain, 0, 1, axis=1)\n",
    "ytrain=boston.target[0:400]\n",
    "xtest=boston.data[400:506, :]\n",
    "xtest=np.insert(xtest, 0, 1, axis=1)\n",
    "ytest=boston.target[400:506]\n",
    "m=400\n",
    "ytrain.reshape(400, 1)\n",
    "print(xtrain.shape)\n",
    "print(ytrain.shape)\n",
    "\n",
    "#print(dataset.ndim)\n"
   ]
  },
  {
   "cell_type": "code",
   "execution_count": null,
   "metadata": {},
   "outputs": [],
   "source": [
    "theta=np.zeros((14, 1))\n",
    "alpha=0.00001\n"
   ]
  },
  {
   "cell_type": "code",
   "execution_count": null,
   "metadata": {},
   "outputs": [],
   "source": [
    "temp=np.zeros((14,1))\n",
    "for i in range(10000):\n",
    "    ydot=np.dot(xtrain, theta)+1\n",
    "    #print(ydot.shape)\n",
    "    #print(ytrain.shape)\n",
    "    ytrain=ytrain.reshape(400, 1)\n",
    "    #print(ytrain.shape)\n",
    "    #print(np.subtract(ydot,ytrain).shape)\n",
    "    cost=np.sum(np.square(np.subtract(ydot,ytrain)))/(2*m)\n",
    "    print(\"Iteration: \", i,\"cost: \", cost)\n",
    "    #print(np.subtract(ydot,ytrain).shape)\n",
    "    for j in range(14):\n",
    "        temp[j]=theta[j]-alpha*(np.sum(np.multiply(np.subtract(ydot,ytrain), xtrain[:,j].reshape(400, 1))))/m\n",
    "            \n",
    "    for j in range(14):\n",
    "        theta[j]=temp[j]\n",
    "    \n",
    "    "
   ]
  },
  {
   "cell_type": "code",
   "execution_count": null,
   "metadata": {
    "collapsed": true
   },
   "outputs": [],
   "source": []
  }
 ],
 "metadata": {
  "anaconda-cloud": {},
  "kernelspec": {
   "display_name": "Python 3",
   "language": "python",
   "name": "python3"
  },
  "language_info": {
   "codemirror_mode": {
    "name": "ipython",
    "version": 3
   },
   "file_extension": ".py",
   "mimetype": "text/x-python",
   "name": "python",
   "nbconvert_exporter": "python",
   "pygments_lexer": "ipython3",
   "version": "3.6.5"
  }
 },
 "nbformat": 4,
 "nbformat_minor": 1
}
