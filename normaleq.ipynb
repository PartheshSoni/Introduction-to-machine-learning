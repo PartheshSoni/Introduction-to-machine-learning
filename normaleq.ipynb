{
  "nbformat": 4,
  "nbformat_minor": 0,
  "metadata": {
    "colab": {
      "name": "normaleq.ipynb",
      "version": "0.3.2",
      "provenance": [],
      "collapsed_sections": []
    },
    "kernelspec": {
      "display_name": "Python [conda env:Anaconda2]",
      "language": "python",
      "name": "conda-env-Anaconda2-py"
    }
  },
  "cells": [
    {
      "cell_type": "code",
      "metadata": {
        "id": "HHatcn0G9Q1H",
        "colab_type": "code",
        "colab": {}
      },
      "source": [
        "import numpy as np\n",
        "import pandas as pd\n",
        "from sklearn import datasets\n",
        "boston=datasets.load_boston()\n"
      ],
      "execution_count": 0,
      "outputs": []
    },
    {
      "cell_type": "markdown",
      "metadata": {
        "id": "0RcAygtQMcea",
        "colab_type": "text"
      },
      "source": [
        ""
      ]
    },
    {
      "cell_type": "code",
      "metadata": {
        "id": "PJRXf-gE9Q1h",
        "colab_type": "code",
        "outputId": "a8b23fd5-c19e-4704-900b-94ba63d4ffa2",
        "colab": {
          "base_uri": "https://localhost:8080/",
          "height": 86
        }
      },
      "source": [
        "xtrain=boston.data[0:400, :]\n",
        "ytrain=boston.target[0:400]\n",
        "xtest=boston.data[400:506, :]\n",
        "ytest=boston.target[400:506]\n",
        "xtrain=np.insert(xtrain, 0, 1, axis=1)\n",
        "xtest=np.insert(xtest, 0, 1, axis=1)\n",
        "\n",
        "\n",
        "\n",
        "print(xtrain.shape)\n",
        "print(ytrain.shape)\n",
        "print(xtest.shape)\n",
        "print(ytest.shape)"
      ],
      "execution_count": 2,
      "outputs": [
        {
          "output_type": "stream",
          "text": [
            "(400, 14)\n",
            "(400,)\n",
            "(106, 14)\n",
            "(106,)\n"
          ],
          "name": "stdout"
        }
      ]
    },
    {
      "cell_type": "code",
      "metadata": {
        "id": "jQIqEfXu9Q12",
        "colab_type": "code",
        "outputId": "259b9ff4-abbd-4a1b-ba6a-1d8f6c64eb6e",
        "colab": {
          "base_uri": "https://localhost:8080/",
          "height": 34
        }
      },
      "source": [
        "\n",
        "ytrain=ytrain.reshape(400, 1)\n",
        "ytest=ytest.reshape(106, 1)\n",
        "\n",
        "\n",
        "theta=np.matmul(np.matmul(np.linalg.pinv(np.matmul(xtrain.transpose(), xtrain)),xtrain.transpose()), ytrain)\n",
        "print(theta.shape)"
      ],
      "execution_count": 3,
      "outputs": [
        {
          "output_type": "stream",
          "text": [
            "(14, 1)\n"
          ],
          "name": "stdout"
        }
      ]
    },
    {
      "cell_type": "code",
      "metadata": {
        "id": "pkvi2fbV9Q2K",
        "colab_type": "code",
        "outputId": "61d07fd8-e244-4ae0-b99b-78e9d5bb2eac",
        "colab": {
          "base_uri": "https://localhost:8080/",
          "height": 52
        }
      },
      "source": [
        "'''err=np.dot(xtest, theta)\n",
        "err=np.subtract(err,ytest)\n",
        "err=np.absolute(err)\n",
        "err=np.divide(err, ytest)\n",
        "error=np.sum(err)/105\n",
        "print(error)'''\n",
        "\n",
        "#print(theta.shape)\n",
        "#print(xtest.shape)\n",
        "ytest=ytest.reshape(106, 1)\n",
        "#print(ytest.shape)\n",
        "\n",
        "error=0\n",
        "pred=np.dot(xtest, theta)\n",
        "err=pred-ytest\n",
        "err=np.divide(err, ytest)\n",
        "\n",
        "err=np.absolute(err)\n",
        "#print(err)\n",
        "error=np.sum(err)/105\n",
        "print(\"Error for test set: \",error*100, \"%\")\n",
        "print(\"Accuracy: \",(1-error)*100, \"%\")\n",
        "\n",
        "    \n"
      ],
      "execution_count": 4,
      "outputs": [
        {
          "output_type": "stream",
          "text": [
            "Error for test set:  40.98179225112987 %\n",
            "Accuracy:  59.01820774887013 %\n"
          ],
          "name": "stdout"
        }
      ]
    },
    {
      "cell_type": "code",
      "metadata": {
        "id": "U72LVWFIMa0b",
        "colab_type": "code",
        "colab": {}
      },
      "source": [
        ""
      ],
      "execution_count": 0,
      "outputs": []
    }
  ]
}