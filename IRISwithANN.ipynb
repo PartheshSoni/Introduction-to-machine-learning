{
  "nbformat": 4,
  "nbformat_minor": 0,
  "metadata": {
    "colab": {
      "name": "IRISwithANN.ipynb",
      "version": "0.3.2",
      "provenance": [],
      "collapsed_sections": []
    },
    "kernelspec": {
      "name": "python3",
      "display_name": "Python 3"
    },
    "accelerator": "GPU"
  },
  "cells": [
    {
      "cell_type": "code",
      "metadata": {
        "id": "AY1_O0P6oP6P",
        "colab_type": "code",
        "colab": {}
      },
      "source": [
        "import numpy as np\n",
        "import matplotlib.pyplot as plt\n",
        "from mpl_toolkits.mplot3d import Axes3D\n",
        "from sklearn import datasets\n",
        "from sklearn.neural_network import MLPClassifier\n",
        "from sklearn.model_selection import train_test_split\n",
        "from sklearn.metrics import accuracy_score, confusion_matrix"
      ],
      "execution_count": 0,
      "outputs": []
    },
    {
      "cell_type": "code",
      "metadata": {
        "id": "JTu36Ba9oj6d",
        "colab_type": "code",
        "outputId": "d426a4ee-a5d6-4572-99d1-e1bedc4f05f7",
        "colab": {
          "base_uri": "https://localhost:8080/",
          "height": 139
        }
      },
      "source": [
        "iris=datasets.load_iris()\n",
        "X=iris.data[:, :2]\n",
        "y=iris.target\n",
        "\n",
        "print(X.shape)\n",
        "\n",
        "x_train, x_test, y_train, y_test=train_test_split(X, y)\n",
        "print(x_train.shape)\n",
        "print(x_test.shape)\n",
        "\n",
        "model=MLPClassifier(hidden_layer_sizes=(256, 128, 64), max_iter=100000, activation=\"relu\", alpha=0.0001,  solver='sgd')\n",
        "model.fit(x_train, y_train)\n",
        "y_pred=model.predict(x_test)\n",
        "print(\"Accuracy: \",(accuracy_score(y_test, y_pred))*100)\n",
        "cm=confusion_matrix(y_test, y_pred)\n",
        "print(cm)\n",
        "\n"
      ],
      "execution_count": 3,
      "outputs": [
        {
          "output_type": "stream",
          "text": [
            "(150, 2)\n",
            "(112, 2)\n",
            "(38, 2)\n",
            "Accuracy:  68.42105263157895\n",
            "[[ 9  0  0]\n",
            " [ 0  6  7]\n",
            " [ 0  5 11]]\n"
          ],
          "name": "stdout"
        }
      ]
    }
  ]
}